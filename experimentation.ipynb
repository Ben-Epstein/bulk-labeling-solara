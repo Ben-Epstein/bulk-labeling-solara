{
 "cells": [
  {
   "cell_type": "code",
   "execution_count": 12,
   "id": "833f9c39",
   "metadata": {},
   "outputs": [
    {
     "data": {
      "application/vnd.jupyter.widget-view+json": {
       "model_id": "c90014c66fec4a86abe58146410cbf9a",
       "version_major": 2,
       "version_minor": 0
      },
      "text/html": [
       "Cannot show widget. You probably want to rerun the code cell above (<i>Click in the code cell, and press Shift+Enter <kbd>⇧</kbd>+<kbd>↩</kbd></i>)."
      ],
      "text/plain": [
       "Cannot show ipywidgets in text"
      ]
     },
     "metadata": {},
     "output_type": "display_data"
    },
    {
     "data": {
      "text/html": [
       "<div>\n",
       "<style scoped>\n",
       "    .dataframe tbody tr th:only-of-type {\n",
       "        vertical-align: middle;\n",
       "    }\n",
       "\n",
       "    .dataframe tbody tr th {\n",
       "        vertical-align: top;\n",
       "    }\n",
       "\n",
       "    .dataframe thead th {\n",
       "        text-align: right;\n",
       "    }\n",
       "</style>\n",
       "<table border=\"1\" class=\"dataframe\">\n",
       "  <thead>\n",
       "    <tr style=\"text-align: right;\">\n",
       "      <th></th>\n",
       "      <th>pred_battle_of_forms</th>\n",
       "      <th>label_battle_of_forms</th>\n",
       "      <th>confidence_battle_of_forms</th>\n",
       "      <th>galileo_text_length</th>\n",
       "      <th>text</th>\n",
       "      <th>data_error_potential_battle_of_forms</th>\n",
       "      <th>id</th>\n",
       "      <th>galileo_language_id</th>\n",
       "      <th>galileo_pii</th>\n",
       "    </tr>\n",
       "  </thead>\n",
       "  <tbody>\n",
       "    <tr>\n",
       "      <th>0</th>\n",
       "      <td>0</td>\n",
       "      <td>0</td>\n",
       "      <td>0.739398</td>\n",
       "      <td>34</td>\n",
       "      <td>Geschäftsgeheimnisgesetz bestehen.</td>\n",
       "      <td>0.751882</td>\n",
       "      <td>0e15a654e44fa9310b48a21b97dfd6e012d26872b6f9b1...</td>\n",
       "      <td>en</td>\n",
       "      <td>None</td>\n",
       "    </tr>\n",
       "    <tr>\n",
       "      <th>1</th>\n",
       "      <td>1</td>\n",
       "      <td>1</td>\n",
       "      <td>0.521769</td>\n",
       "      <td>216</td>\n",
       "      <td>3. Wurde in der älteren Geheimhaltungsvereinba...</td>\n",
       "      <td>0.717942</td>\n",
       "      <td>47bb027d91107552bd7301e821c06fef31ddef3c50785f...</td>\n",
       "      <td>en</td>\n",
       "      <td>None</td>\n",
       "    </tr>\n",
       "    <tr>\n",
       "      <th>2</th>\n",
       "      <td>0</td>\n",
       "      <td>0</td>\n",
       "      <td>0.559984</td>\n",
       "      <td>177</td>\n",
       "      <td>(2)\\tBei Widersprüchen oder Unklarheiten zwisc...</td>\n",
       "      <td>0.742831</td>\n",
       "      <td>a5f048953a7a924e60627ef62473ee76a8bfefba22ca79...</td>\n",
       "      <td>en</td>\n",
       "      <td>None</td>\n",
       "    </tr>\n",
       "    <tr>\n",
       "      <th>3</th>\n",
       "      <td>0</td>\n",
       "      <td>0</td>\n",
       "      <td>0.735996</td>\n",
       "      <td>107</td>\n",
       "      <td>14. Mündliche Abreden bestehen nicht, Änderung...</td>\n",
       "      <td>0.702631</td>\n",
       "      <td>c411be57015751c047d6b46c2c89c612bb3d96496ba6ec...</td>\n",
       "      <td>en</td>\n",
       "      <td>None</td>\n",
       "    </tr>\n",
       "    <tr>\n",
       "      <th>4</th>\n",
       "      <td>0</td>\n",
       "      <td>0</td>\n",
       "      <td>0.533273</td>\n",
       "      <td>73</td>\n",
       "      <td>11. Diese Vereinbarung ist in deutscher und en...</td>\n",
       "      <td>0.703185</td>\n",
       "      <td>ed7281e80c911da8dd2d7f67b4d804a2a715e0da9d364e...</td>\n",
       "      <td>en</td>\n",
       "      <td>None</td>\n",
       "    </tr>\n",
       "  </tbody>\n",
       "</table>\n",
       "</div>"
      ],
      "text/plain": [
       "   pred_battle_of_forms  label_battle_of_forms  confidence_battle_of_forms  \\\n",
       "0                     0                      0                    0.739398   \n",
       "1                     1                      1                    0.521769   \n",
       "2                     0                      0                    0.559984   \n",
       "3                     0                      0                    0.735996   \n",
       "4                     0                      0                    0.533273   \n",
       "\n",
       "   galileo_text_length                                               text  \\\n",
       "0                   34                 Geschäftsgeheimnisgesetz bestehen.   \n",
       "1                  216  3. Wurde in der älteren Geheimhaltungsvereinba...   \n",
       "2                  177  (2)\\tBei Widersprüchen oder Unklarheiten zwisc...   \n",
       "3                  107  14. Mündliche Abreden bestehen nicht, Änderung...   \n",
       "4                   73  11. Diese Vereinbarung ist in deutscher und en...   \n",
       "\n",
       "   data_error_potential_battle_of_forms  \\\n",
       "0                              0.751882   \n",
       "1                              0.717942   \n",
       "2                              0.742831   \n",
       "3                              0.702631   \n",
       "4                              0.703185   \n",
       "\n",
       "                                                  id galileo_language_id  \\\n",
       "0  0e15a654e44fa9310b48a21b97dfd6e012d26872b6f9b1...                  en   \n",
       "1  47bb027d91107552bd7301e821c06fef31ddef3c50785f...                  en   \n",
       "2  a5f048953a7a924e60627ef62473ee76a8bfefba22ca79...                  en   \n",
       "3  c411be57015751c047d6b46c2c89c612bb3d96496ba6ec...                  en   \n",
       "4  ed7281e80c911da8dd2d7f67b4d804a2a715e0da9d364e...                  en   \n",
       "\n",
       "  galileo_pii  \n",
       "0        None  \n",
       "1        None  \n",
       "2        None  \n",
       "3        None  \n",
       "4        None  "
      ]
     },
     "metadata": {},
     "output_type": "display_data"
    }
   ],
   "source": [
    "import solara\n",
    "import io\n",
    "import pandas as pd\n",
    "\n",
    "@solara.component\n",
    "def Page():\n",
    "    def load_file_df(file):\n",
    "        data = io.BytesIO(file[\"data\"])\n",
    "        display(pd.read_csv(data))\n",
    "        \n",
    "    solara.FileDrop(label=\"Drop and D\",lazy=False, on_file=load_file_df)\n",
    "Page()"
   ]
  },
  {
   "cell_type": "code",
   "execution_count": 1,
   "id": "16fe954b",
   "metadata": {},
   "outputs": [
    {
     "data": {
      "application/vnd.jupyter.widget-view+json": {
       "model_id": "4f775c6b490343d0b32f865784f8aca0",
       "version_major": 2,
       "version_minor": 0
      },
      "text/html": [
       "Cannot show widget. You probably want to rerun the code cell above (<i>Click in the code cell, and press Shift+Enter <kbd>⇧</kbd>+<kbd>↩</kbd></i>)."
      ],
      "text/plain": [
       "Cannot show ipywidgets in text"
      ]
     },
     "metadata": {},
     "output_type": "display_data"
    }
   ],
   "source": [
    "import solara as sl\n",
    "\n",
    "@sl.component\n",
    "def Page():\n",
    "    # Solara knows this is an int, and automatically manages type-safety\n",
    "    count, set_count = sl.use_state(0)\n",
    "    \n",
    "    def increment():\n",
    "        # When we use the setter, the component reloads\n",
    "        set_count(count+1)\n",
    "    \n",
    "    sl.Button(label=f\"Clicked {count} times\", on_click=increment)\n",
    "    \n",
    "Page()"
   ]
  },
  {
   "cell_type": "code",
   "execution_count": 2,
   "id": "049e75cf",
   "metadata": {},
   "outputs": [
    {
     "data": {
      "application/vnd.jupyter.widget-view+json": {
       "model_id": "b4cb04745c8e4418aaa93c6a637cc2e5",
       "version_major": 2,
       "version_minor": 0
      },
      "text/html": [
       "Cannot show widget. You probably want to rerun the code cell above (<i>Click in the code cell, and press Shift+Enter <kbd>⇧</kbd>+<kbd>↩</kbd></i>)."
      ],
      "text/plain": [
       "Cannot show ipywidgets in text"
      ]
     },
     "metadata": {},
     "output_type": "display_data"
    }
   ],
   "source": [
    "from functools import partial\n",
    "import solara as sl\n",
    "from typing import Callable\n",
    "\n",
    "def increment_count(count: int, set_count: Callable) -> None:\n",
    "    set_count(count + 1)\n",
    "\n",
    "@sl.component\n",
    "def Page():\n",
    "    count, set_count = sl.use_state(0)\n",
    "\n",
    "    incrementer = partial(increment_count, count, set_count)\n",
    "    sl.Button(label=f\"Clicked {count} times\", on_click=incrementer)\n",
    "    \n",
    "# If you're in jupyter, this will render the button automatically\n",
    "Page()"
   ]
  },
  {
   "cell_type": "code",
   "execution_count": 12,
   "id": "a22b4d99",
   "metadata": {},
   "outputs": [
    {
     "data": {
      "application/vnd.jupyter.widget-view+json": {
       "model_id": "ffad00af2da14a3cab2b564236313e3d",
       "version_major": 2,
       "version_minor": 0
      },
      "text/html": [
       "Cannot show widget. You probably want to rerun the code cell above (<i>Click in the code cell, and press Shift+Enter <kbd>⇧</kbd>+<kbd>↩</kbd></i>)."
      ],
      "text/plain": [
       "Cannot show ipywidgets in text"
      ]
     },
     "metadata": {},
     "output_type": "display_data"
    }
   ],
   "source": [
    "import solara as sl\n",
    "# from solara_project.state import MenuState, PlotState\n",
    "\n",
    "@sl.component\n",
    "def menu():\n",
    "    PlotState.point_size.use()\n",
    "    \n",
    "    sl.Markdown(f\"Points are size {PlotState.point_size.value}\")\n",
    "    sl.SliderInt(\n",
    "        \"Point size\", \n",
    "        PlotState.point_size.value,\n",
    "        on_value=PlotState.point_size.set\n",
    "     )\n",
    "    \n",
    "    \n",
    "menu()"
   ]
  },
  {
   "cell_type": "code",
   "execution_count": 13,
   "id": "31ad67dd",
   "metadata": {},
   "outputs": [],
   "source": [
    "sl.SliderInt?"
   ]
  },
  {
   "cell_type": "code",
   "execution_count": 11,
   "id": "b94f8426",
   "metadata": {
    "scrolled": true
   },
   "outputs": [
    {
     "data": {
      "application/vnd.jupyter.widget-view+json": {
       "model_id": "748fd77de7ef4677a0332044eeeca0c9",
       "version_major": 2,
       "version_minor": 0
      },
      "text/html": [
       "Cannot show widget. You probably want to rerun the code cell above (<i>Click in the code cell, and press Shift+Enter <kbd>⇧</kbd>+<kbd>↩</kbd></i>)."
      ],
      "text/plain": [
       "Cannot show ipywidgets in text"
      ]
     },
     "metadata": {},
     "output_type": "display_data"
    },
    {
     "name": "stdout",
     "output_type": "stream",
     "text": [
      "                                                text  \\\n",
      "0  Auf Verlangen von Ferrero hat der Anbieter Fer...   \n",
      "1  12.5 Falls der Anbieter den Mangel gemäß Ziffe...   \n",
      "2  7.4 Für Beschaffungen der zentralen Bundesverw...   \n",
      "\n",
      "   confidence_type_of_personal_data  confidence_defectrelated_rights  \\\n",
      "0                          0.915910                         0.941292   \n",
      "1                          0.949380                         0.701117   \n",
      "2                          0.961664                         0.973099   \n",
      "\n",
      "   label_counterpart_copy  \\\n",
      "0                       0   \n",
      "1                       0   \n",
      "2                       0   \n",
      "\n",
      "   label_appropriate_protection_level_for_third_country_transfer_of_p  \\\n",
      "0                                                  0                    \n",
      "1                                                  0                    \n",
      "2                                                  0                    \n",
      "\n",
      "   data_error_potential_governing_law  \\\n",
      "0                            0.055487   \n",
      "1                            0.065944   \n",
      "2                            0.065293   \n",
      "\n",
      "   confidence_appropriate_protection_level_for_third_country_transfer_of_p  \\\n",
      "0                                           0.971569                         \n",
      "1                                           0.954190                         \n",
      "2                                           0.929052                         \n",
      "\n",
      "   pred_warranty  pred_jurisdiction_arbitration  label_acceptance  ...  \\\n",
      "0              0                              0                 0  ...   \n",
      "1              0                              0                 0  ...   \n",
      "2              0                              0                 0  ...   \n",
      "\n",
      "   pred_counterpart_copy  data_error_potential_taxes_levies_duties  \\\n",
      "0                      0                                  0.065964   \n",
      "1                      0                                  0.064122   \n",
      "2                      0                                  0.544393   \n",
      "\n",
      "  data_error_potential_damages  label_battle_of_forms  \\\n",
      "0                     0.113330                      0   \n",
      "1                     0.300429                      0   \n",
      "2                     0.106486                      0   \n",
      "\n",
      "   data_error_potential_warranty text_length  \\\n",
      "0                       0.086802         101   \n",
      "1                       0.062620         359   \n",
      "2                       0.057598         232   \n",
      "\n",
      "                                           hovertext          x          y  \\\n",
      "0  Auf Verlangen von Ferrero hat<br>der Anbieter ...  16.047785  11.310946   \n",
      "1  12.5 Falls der Anbieter den<br>Mangel gemäß Zi...  16.423313  10.101930   \n",
      "2  7.4 Für Beschaffungen der<br>zentralen Bundesv...  17.111603   9.463718   \n",
      "\n",
      "          label  \n",
      "0  words_with_b  \n",
      "1  words_with_b  \n",
      "2  words_with_b  \n",
      "\n",
      "[3 rows x 86 columns]\n"
     ]
    }
   ],
   "source": [
    "import solara as sl\n",
    "import pandas as pd\n",
    "from solara.components.file_drop import FileInfo\n",
    "import io\n",
    "\n",
    "@sl.component\n",
    "def menu():\n",
    "    df, set_df = sl.use_state(pd.DataFrame({}))\n",
    "    \n",
    "    def load_file_df(file: FileInfo) -> None:\n",
    "        if not file[\"data\"]:\n",
    "            return\n",
    "        new_df = pd.read_csv(io.BytesIO(file[\"data\"]))\n",
    "        set_df(new_df)\n",
    "        print(new_df.head(3))\n",
    "       \n",
    "    search = sl.InputText(\"What would you like to see?\")\n",
    "    page_size = sl.SliderInt(\"How many samples per page?\", 10)\n",
    "    sl.FileDrop(\n",
    "        label=\"Drop CSV here!\",\n",
    "        on_file=load_file_df,\n",
    "        lazy=False,\n",
    "    )\n",
    "    \n",
    "menu()"
   ]
  },
  {
   "cell_type": "code",
   "execution_count": 38,
   "id": "5455f8f5",
   "metadata": {
    "scrolled": false
   },
   "outputs": [
    {
     "name": "stdout",
     "output_type": "stream",
     "text": [
      "Overwriting demo_app.py\n"
     ]
    }
   ],
   "source": [
    "%%writefile demo_app.py\n",
    "from typing import Callable \n",
    "from functools import partial\n",
    "import solara as sl\n",
    "import pandas as pd\n",
    "from solara.components.file_drop import FileInfo\n",
    "import io\n",
    "\n",
    "def load_file_df(file: FileInfo, set_df: Callable):\n",
    "    if not file[\"data\"]:\n",
    "        return\n",
    "    new_df = pd.read_csv(io.BytesIO(file[\"data\"]))\n",
    "    # Set it before embeddings so the user can see the df while embeddings load\n",
    "    set_df(new_df)\n",
    "    \n",
    "@sl.component\n",
    "def df_table(df: pd.DataFrame, num_samples: int, search: str) -> None:\n",
    "    if not len(df):\n",
    "        return\n",
    "    filtered = df.copy()\n",
    "    if \"text\" in df.columns:\n",
    "        filtered = df[df[\"text\"].str.contains(search)]\n",
    "    sl.DataFrame(filtered[:num_samples])\n",
    "    \n",
    "\n",
    "@sl.component\n",
    "def file_manager(set_df: Callable) -> None:\n",
    "    sl.FileDrop(\n",
    "        label=\"Drop CSV here (`text` col required)!\",\n",
    "        on_file=partial(load_file_df, set_df=set_df),\n",
    "        lazy=False,\n",
    "    )\n",
    "\n",
    "\n",
    "@sl.component\n",
    "def menu():\n",
    "    df, set_df = sl.use_state(pd.DataFrame({}))\n",
    "    num_samples, set_samples = sl.use_state(10)\n",
    "    search, set_search = sl.use_state(\"\")\n",
    "    \n",
    "    with sl.Sidebar():\n",
    "        sl.InputText(\"What would you like to see?\", search, on_value=set_search)\n",
    "        sl.SliderInt(\"How many samples?\", num_samples, max=100, on_value=set_samples)\n",
    "        file_manager(set_df)\n",
    "    df_table(df, num_samples, search)\n",
    "    \n",
    "\n",
    "@sl.component\n",
    "def Page():\n",
    "    menu()\n"
   ]
  },
  {
   "cell_type": "code",
   "execution_count": 39,
   "id": "105a04eb",
   "metadata": {},
   "outputs": [
    {
     "name": "stdout",
     "output_type": "stream",
     "text": [
      "Solara server is starting at \u001b[4;94mhttp://localhost:8765\u001b[0m\r\n"
     ]
    }
   ],
   "source": [
    "!solara run demo_app.py"
   ]
  },
  {
   "cell_type": "code",
   "execution_count": 47,
   "id": "3d07094e",
   "metadata": {},
   "outputs": [
    {
     "name": "stdout",
     "output_type": "stream",
     "text": [
      "5\n"
     ]
    }
   ],
   "source": [
    "print(m)"
   ]
  },
  {
   "cell_type": "code",
   "execution_count": 51,
   "id": "a23c5cea",
   "metadata": {},
   "outputs": [
    {
     "data": {
      "text/plain": [
       "{'value': 5}"
      ]
     },
     "execution_count": 51,
     "metadata": {},
     "output_type": "execute_result"
    }
   ],
   "source": [
    "m.__dict__"
   ]
  },
  {
   "cell_type": "code",
   "execution_count": null,
   "id": "57a4a9e5",
   "metadata": {},
   "outputs": [],
   "source": []
  }
 ],
 "metadata": {
  "kernelspec": {
   "display_name": "Python 3 (ipykernel)",
   "language": "python",
   "name": "python3"
  },
  "language_info": {
   "codemirror_mode": {
    "name": "ipython",
    "version": 3
   },
   "file_extension": ".py",
   "mimetype": "text/x-python",
   "name": "python",
   "nbconvert_exporter": "python",
   "pygments_lexer": "ipython3",
   "version": "3.9.8"
  }
 },
 "nbformat": 4,
 "nbformat_minor": 5
}
