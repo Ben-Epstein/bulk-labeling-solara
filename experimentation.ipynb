{
 "cells": [
  {
   "cell_type": "code",
   "execution_count": 12,
   "id": "833f9c39",
   "metadata": {},
   "outputs": [
    {
     "data": {
      "application/vnd.jupyter.widget-view+json": {
       "model_id": "c90014c66fec4a86abe58146410cbf9a",
       "version_major": 2,
       "version_minor": 0
      },
      "text/html": [
       "Cannot show widget. You probably want to rerun the code cell above (<i>Click in the code cell, and press Shift+Enter <kbd>⇧</kbd>+<kbd>↩</kbd></i>)."
      ],
      "text/plain": [
       "Cannot show ipywidgets in text"
      ]
     },
     "metadata": {},
     "output_type": "display_data"
    },
    {
     "data": {
      "text/html": [
       "<div>\n",
       "<style scoped>\n",
       "    .dataframe tbody tr th:only-of-type {\n",
       "        vertical-align: middle;\n",
       "    }\n",
       "\n",
       "    .dataframe tbody tr th {\n",
       "        vertical-align: top;\n",
       "    }\n",
       "\n",
       "    .dataframe thead th {\n",
       "        text-align: right;\n",
       "    }\n",
       "</style>\n",
       "<table border=\"1\" class=\"dataframe\">\n",
       "  <thead>\n",
       "    <tr style=\"text-align: right;\">\n",
       "      <th></th>\n",
       "      <th>pred_battle_of_forms</th>\n",
       "      <th>label_battle_of_forms</th>\n",
       "      <th>confidence_battle_of_forms</th>\n",
       "      <th>galileo_text_length</th>\n",
       "      <th>text</th>\n",
       "      <th>data_error_potential_battle_of_forms</th>\n",
       "      <th>id</th>\n",
       "      <th>galileo_language_id</th>\n",
       "      <th>galileo_pii</th>\n",
       "    </tr>\n",
       "  </thead>\n",
       "  <tbody>\n",
       "    <tr>\n",
       "      <th>0</th>\n",
       "      <td>0</td>\n",
       "      <td>0</td>\n",
       "      <td>0.739398</td>\n",
       "      <td>34</td>\n",
       "      <td>Geschäftsgeheimnisgesetz bestehen.</td>\n",
       "      <td>0.751882</td>\n",
       "      <td>0e15a654e44fa9310b48a21b97dfd6e012d26872b6f9b1...</td>\n",
       "      <td>en</td>\n",
       "      <td>None</td>\n",
       "    </tr>\n",
       "    <tr>\n",
       "      <th>1</th>\n",
       "      <td>1</td>\n",
       "      <td>1</td>\n",
       "      <td>0.521769</td>\n",
       "      <td>216</td>\n",
       "      <td>3. Wurde in der älteren Geheimhaltungsvereinba...</td>\n",
       "      <td>0.717942</td>\n",
       "      <td>47bb027d91107552bd7301e821c06fef31ddef3c50785f...</td>\n",
       "      <td>en</td>\n",
       "      <td>None</td>\n",
       "    </tr>\n",
       "    <tr>\n",
       "      <th>2</th>\n",
       "      <td>0</td>\n",
       "      <td>0</td>\n",
       "      <td>0.559984</td>\n",
       "      <td>177</td>\n",
       "      <td>(2)\\tBei Widersprüchen oder Unklarheiten zwisc...</td>\n",
       "      <td>0.742831</td>\n",
       "      <td>a5f048953a7a924e60627ef62473ee76a8bfefba22ca79...</td>\n",
       "      <td>en</td>\n",
       "      <td>None</td>\n",
       "    </tr>\n",
       "    <tr>\n",
       "      <th>3</th>\n",
       "      <td>0</td>\n",
       "      <td>0</td>\n",
       "      <td>0.735996</td>\n",
       "      <td>107</td>\n",
       "      <td>14. Mündliche Abreden bestehen nicht, Änderung...</td>\n",
       "      <td>0.702631</td>\n",
       "      <td>c411be57015751c047d6b46c2c89c612bb3d96496ba6ec...</td>\n",
       "      <td>en</td>\n",
       "      <td>None</td>\n",
       "    </tr>\n",
       "    <tr>\n",
       "      <th>4</th>\n",
       "      <td>0</td>\n",
       "      <td>0</td>\n",
       "      <td>0.533273</td>\n",
       "      <td>73</td>\n",
       "      <td>11. Diese Vereinbarung ist in deutscher und en...</td>\n",
       "      <td>0.703185</td>\n",
       "      <td>ed7281e80c911da8dd2d7f67b4d804a2a715e0da9d364e...</td>\n",
       "      <td>en</td>\n",
       "      <td>None</td>\n",
       "    </tr>\n",
       "  </tbody>\n",
       "</table>\n",
       "</div>"
      ],
      "text/plain": [
       "   pred_battle_of_forms  label_battle_of_forms  confidence_battle_of_forms  \\\n",
       "0                     0                      0                    0.739398   \n",
       "1                     1                      1                    0.521769   \n",
       "2                     0                      0                    0.559984   \n",
       "3                     0                      0                    0.735996   \n",
       "4                     0                      0                    0.533273   \n",
       "\n",
       "   galileo_text_length                                               text  \\\n",
       "0                   34                 Geschäftsgeheimnisgesetz bestehen.   \n",
       "1                  216  3. Wurde in der älteren Geheimhaltungsvereinba...   \n",
       "2                  177  (2)\\tBei Widersprüchen oder Unklarheiten zwisc...   \n",
       "3                  107  14. Mündliche Abreden bestehen nicht, Änderung...   \n",
       "4                   73  11. Diese Vereinbarung ist in deutscher und en...   \n",
       "\n",
       "   data_error_potential_battle_of_forms  \\\n",
       "0                              0.751882   \n",
       "1                              0.717942   \n",
       "2                              0.742831   \n",
       "3                              0.702631   \n",
       "4                              0.703185   \n",
       "\n",
       "                                                  id galileo_language_id  \\\n",
       "0  0e15a654e44fa9310b48a21b97dfd6e012d26872b6f9b1...                  en   \n",
       "1  47bb027d91107552bd7301e821c06fef31ddef3c50785f...                  en   \n",
       "2  a5f048953a7a924e60627ef62473ee76a8bfefba22ca79...                  en   \n",
       "3  c411be57015751c047d6b46c2c89c612bb3d96496ba6ec...                  en   \n",
       "4  ed7281e80c911da8dd2d7f67b4d804a2a715e0da9d364e...                  en   \n",
       "\n",
       "  galileo_pii  \n",
       "0        None  \n",
       "1        None  \n",
       "2        None  \n",
       "3        None  \n",
       "4        None  "
      ]
     },
     "metadata": {},
     "output_type": "display_data"
    }
   ],
   "source": [
    "import solara\n",
    "import io\n",
    "import pandas as pd\n",
    "\n",
    "@solara.component\n",
    "def Page():\n",
    "    def load_file_df(file):\n",
    "        data = io.BytesIO(file[\"data\"])\n",
    "        display(pd.read_csv(data))\n",
    "        \n",
    "    solara.FileDrop(label=\"Drop and D\",lazy=False, on_file=load_file_df)\n",
    "Page()"
   ]
  },
  {
   "cell_type": "code",
   "execution_count": 16,
   "id": "b94f8426",
   "metadata": {
    "scrolled": true
   },
   "outputs": [
    {
     "data": {
      "application/vnd.jupyter.widget-view+json": {
       "model_id": "aa24b33cc3b9464f8177cf42e37a0169",
       "version_major": 2,
       "version_minor": 0
      },
      "text/html": [
       "Cannot show widget. You probably want to rerun the code cell above (<i>Click in the code cell, and press Shift+Enter <kbd>⇧</kbd>+<kbd>↩</kbd></i>)."
      ],
      "text/plain": [
       "Cannot show ipywidgets in text"
      ]
     },
     "metadata": {},
     "output_type": "display_data"
    },
    {
     "name": "stderr",
     "output_type": "stream",
     "text": [
      "No columns to parse from file\n",
      "Traceback (most recent call last):\n",
      "  File \"/Users/benepstein/Documents/Github/bulk-labeling-solara/.venv/lib/python3.9/site-packages/solara/hooks/misc.py\", line 173, in runner\n",
      "    value = f()\n",
      "  File \"/Users/benepstein/Documents/Github/bulk-labeling-solara/.venv/lib/python3.9/site-packages/solara/components/file_drop.py\", line 90, in handle_file\n",
      "    on_file(wired_files[0])\n",
      "  File \"/var/folders/x6/00594j4s2yv3swcn98bn8gxr0000gn/T/ipykernel_19818/1940999457.py\", line 19, in on_file\n",
      "    display(pd.read_csv(data))\n",
      "  File \"/Users/benepstein/Documents/Github/bulk-labeling-solara/.venv/lib/python3.9/site-packages/pandas/util/_decorators.py\", line 211, in wrapper\n",
      "    return func(*args, **kwargs)\n",
      "  File \"/Users/benepstein/Documents/Github/bulk-labeling-solara/.venv/lib/python3.9/site-packages/pandas/util/_decorators.py\", line 331, in wrapper\n",
      "    return func(*args, **kwargs)\n",
      "  File \"/Users/benepstein/Documents/Github/bulk-labeling-solara/.venv/lib/python3.9/site-packages/pandas/io/parsers/readers.py\", line 950, in read_csv\n",
      "    return _read(filepath_or_buffer, kwds)\n",
      "  File \"/Users/benepstein/Documents/Github/bulk-labeling-solara/.venv/lib/python3.9/site-packages/pandas/io/parsers/readers.py\", line 605, in _read\n",
      "    parser = TextFileReader(filepath_or_buffer, **kwds)\n",
      "  File \"/Users/benepstein/Documents/Github/bulk-labeling-solara/.venv/lib/python3.9/site-packages/pandas/io/parsers/readers.py\", line 1442, in __init__\n",
      "    self._engine = self._make_engine(f, self.engine)\n",
      "  File \"/Users/benepstein/Documents/Github/bulk-labeling-solara/.venv/lib/python3.9/site-packages/pandas/io/parsers/readers.py\", line 1753, in _make_engine\n",
      "    return mapping[engine](f, **self.options)\n",
      "  File \"/Users/benepstein/Documents/Github/bulk-labeling-solara/.venv/lib/python3.9/site-packages/pandas/io/parsers/c_parser_wrapper.py\", line 79, in __init__\n",
      "    self._reader = parsers.TextReader(src, **kwds)\n",
      "  File \"pandas/_libs/parsers.pyx\", line 554, in pandas._libs.parsers.TextReader.__cinit__\n",
      "pandas.errors.EmptyDataError: No columns to parse from file\n"
     ]
    }
   ],
   "source": [
    "import textwrap\n",
    "\n",
    "import solara\n",
    "from solara.components.file_drop import FileInfo\n",
    "from solara.website.utils import apidoc\n",
    "\n",
    "@solara.component\n",
    "def Page():\n",
    "    content, set_content = solara.use_state(b\"\")\n",
    "    filename, set_filename = solara.use_state(\"\")\n",
    "    size, set_size = solara.use_state(0)\n",
    "\n",
    "    def on_file(file: FileInfo):\n",
    "        set_filename(file[\"name\"])\n",
    "        set_size(file[\"size\"])\n",
    "        f = file[\"file_obj\"]\n",
    "        set_content(f.read(100))\n",
    "        data = io.BytesIO(file[\"data\"])\n",
    "        display(pd.read_csv(data))\n",
    "\n",
    "    with solara.Div() as main:\n",
    "        solara.FileDrop(\n",
    "            label=\"Drag and drop a file here to read the first 100 bytes\",\n",
    "            on_file=on_file,\n",
    "            lazy=True,  # We will only read the first 100 bytes\n",
    "        )\n",
    "        if content:\n",
    "            solara.Info(f\"File {filename} has total length: {size}\\n, first 100 bytes:\")\n",
    "            solara.Preformatted(\"\\n\".join(textwrap.wrap(repr(content))))\n",
    "\n",
    "    return main\n",
    "\n",
    "Page()"
   ]
  },
  {
   "cell_type": "code",
   "execution_count": 45,
   "id": "5455f8f5",
   "metadata": {},
   "outputs": [],
   "source": [
    "class MyObject:\n",
    "    def __init__(self, value):\n",
    "        self.value = value\n",
    "        \n",
    "    def __eq__(self, other):\n",
    "        return self.value == other\n",
    "    def __str__(self):\n",
    "        return str(self.value)"
   ]
  },
  {
   "cell_type": "code",
   "execution_count": 46,
   "id": "105a04eb",
   "metadata": {},
   "outputs": [],
   "source": [
    "m = MyObject(5)"
   ]
  },
  {
   "cell_type": "code",
   "execution_count": 47,
   "id": "3d07094e",
   "metadata": {},
   "outputs": [
    {
     "name": "stdout",
     "output_type": "stream",
     "text": [
      "5\n"
     ]
    }
   ],
   "source": [
    "print(m)"
   ]
  },
  {
   "cell_type": "code",
   "execution_count": 51,
   "id": "a23c5cea",
   "metadata": {},
   "outputs": [
    {
     "data": {
      "text/plain": [
       "{'value': 5}"
      ]
     },
     "execution_count": 51,
     "metadata": {},
     "output_type": "execute_result"
    }
   ],
   "source": [
    "m.__dict__"
   ]
  },
  {
   "cell_type": "code",
   "execution_count": null,
   "id": "57a4a9e5",
   "metadata": {},
   "outputs": [],
   "source": []
  }
 ],
 "metadata": {
  "kernelspec": {
   "display_name": "Python 3 (ipykernel)",
   "language": "python",
   "name": "python3"
  },
  "language_info": {
   "codemirror_mode": {
    "name": "ipython",
    "version": 3
   },
   "file_extension": ".py",
   "mimetype": "text/x-python",
   "name": "python",
   "nbconvert_exporter": "python",
   "pygments_lexer": "ipython3",
   "version": "3.9.8"
  }
 },
 "nbformat": 4,
 "nbformat_minor": 5
}
