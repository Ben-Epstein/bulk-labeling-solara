{
 "cells": [
  {
   "cell_type": "code",
   "execution_count": 3,
   "id": "3881df43",
   "metadata": {},
   "outputs": [],
   "source": [
    "import plotly.express as px\n",
    "import solara\n",
    "\n",
    "df = px.data.iris()\n",
    "\n",
    "\n",
    "@solara.component\n",
    "def Page():\n",
    "    fig = px.scatter(df, \"sepal_length\", \"sepal_width\", color=\"species\")\n",
    "    return solara.FigurePlotly(fig)"
   ]
  },
  {
   "cell_type": "code",
   "execution_count": 12,
   "id": "ddedbf22",
   "metadata": {},
   "outputs": [],
   "source": [
    "import pandas as pd\n",
    "\n",
    "demo_dataset = pd.read_csv(\"/Users/benepstein/Documents/GitHub/bulk-labeling/conv_intent.csv\")\n",
    "demo_dataset\n",
    "\n",
    "PATH = \"/Users/benepstein/Documents/GitHub/bulk-labeling/conv_intent.csv\""
   ]
  },
  {
   "cell_type": "code",
   "execution_count": 47,
   "id": "e3d506f7",
   "metadata": {},
   "outputs": [],
   "source": [
    "import solara\n",
    "# import plotly.express as px\n",
    "import solara.express as px\n",
    "\n",
    "# df = px.data.iris()\n",
    "# px.histogram(df, \"species\")\n",
    "# px.scatter(df, x=\"sepal_width\", y=\"sepal_length\", color=\"species\")\n",
    "\n",
    "@solara.component\n",
    "def Page():\n",
    "    count, set_count = solara.use_state(0)\n",
    "    df, set_df = solara.use_state(None, eq=lambda *args: False)\n",
    "\n",
    "    def load_df():\n",
    "        set_df(pd.read_csv(PATH))\n",
    "    def reset():\n",
    "        set_df(None)\n",
    "        \n",
    "    \n",
    "    main = solara.HBox()\n",
    "    with main:\n",
    "        menu_col = solara.VBox()\n",
    "        df_col = solara.VBox()\n",
    "        embs_col = solara.VBox()\n",
    "        \n",
    "        with menu_col:\n",
    "            solara.Button(label=\"Load demo dataset\", on_click=load_df)\n",
    "            solara.Button(label=\"Reset\", on_click=load_df)\n",
    "        with df_col:\n",
    "            if df is not None:\n",
    "                solara.DataFrame(df)\n",
    "            else:\n",
    "                solara.Markdown(\"Load a dataset to see some cool stuff\")\n",
    "        with embs_col:\n",
    "            if df is not None:\n",
    "                px.scatter(df, x=\"x\", y=\"y\")\n",
    "            else:\n",
    "                solara.Markdown(\"Load a dataset to see some cool stuff\")\n",
    "\n",
    "#     with solara.VBox() as main:\n",
    "#         with solara.HBox():\n",
    "#             solara.Button(label=\"Load demo dataset\", on_click=load_df)\n",
    "#         with solara.HBox():\n",
    "#             solara.Button(label=\"Reset\", on_click=load_df)\n",
    "        \n",
    "\n",
    "#         if df is not None:\n",
    "#             display(df)\n",
    "        \n",
    "    return main"
   ]
  },
  {
   "cell_type": "code",
   "execution_count": 48,
   "id": "873a6b51",
   "metadata": {},
   "outputs": [
    {
     "data": {
      "application/vnd.jupyter.widget-view+json": {
       "model_id": "1b100308d4d74542936f42e055eb124e",
       "version_major": 2,
       "version_minor": 0
      },
      "text/html": [
       "Cannot show widget. You probably want to rerun the code cell above (<i>Click in the code cell, and press Shift+Enter <kbd>⇧</kbd>+<kbd>↩</kbd></i>)."
      ],
      "text/plain": [
       "Cannot show ipywidgets in text"
      ]
     },
     "metadata": {},
     "output_type": "display_data"
    }
   ],
   "source": [
    "Page()"
   ]
  },
  {
   "cell_type": "code",
   "execution_count": 49,
   "id": "f53e1743",
   "metadata": {},
   "outputs": [],
   "source": [
    "solara.VBox?"
   ]
  },
  {
   "cell_type": "code",
   "execution_count": null,
   "id": "833f9c39",
   "metadata": {},
   "outputs": [],
   "source": []
  }
 ],
 "metadata": {
  "kernelspec": {
   "display_name": "Python 3 (ipykernel)",
   "language": "python",
   "name": "python3"
  },
  "language_info": {
   "codemirror_mode": {
    "name": "ipython",
    "version": 3
   },
   "file_extension": ".py",
   "mimetype": "text/x-python",
   "name": "python",
   "nbconvert_exporter": "python",
   "pygments_lexer": "ipython3",
   "version": "3.8.11"
  }
 },
 "nbformat": 4,
 "nbformat_minor": 5
}
